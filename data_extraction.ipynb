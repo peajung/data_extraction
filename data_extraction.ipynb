{
 "cells": [
  {
   "cell_type": "code",
   "execution_count": 1,
   "metadata": {},
   "outputs": [],
   "source": [
    "import pandas as pd\n",
    "import numpy as np\n",
    "import json\n",
    "from urllib.request import urlopen\n",
    "from datetime import datetime"
   ]
  },
  {
   "cell_type": "code",
   "execution_count": 2,
   "metadata": {},
   "outputs": [],
   "source": [
    "# Get denormalized-flights data\n",
    "def get_denorm_data(from_param, to_param) :\n",
    "    denorm_url = 'http://sfuelepcn1.thaiairways.co.th:3001/denormalized-flights?'\n",
    "    skip = 'skip=0'\n",
    "    limit = 'limit=0'\n",
    "    parameter = denorm_url + from_param +'&' + to_param + '&' + skip + '&' + limit\n",
    "    return pd.read_json(parameter)\n",
    "\n",
    "# User input eOFP (Set Limit = 1000, default = 50)\n",
    "def get_oefp_user_input() :\n",
    "    url = \"https://tgeofp.rtsp.us/api/v1/userinputs?skip=0&limit=1000\"\n",
    "    return pd.read_json(url)\n",
    "\n",
    "# Get all OFP data (Set limit = 1000, default = 150)\n",
    "def get_ofp() :\n",
    "    url = \"https://tgeofp.rtsp.us/api/v1/ofp?limit=1000\"\n",
    "    return pd.read_json(url)\n",
    "\n",
    "# Get JSON of ofp data by specific flightplan id\n",
    "def get_ofp_by_flightplan(flightplan) :\n",
    "    try:\n",
    "        url = \"https://tgeofp.rtsp.us/api/v1/ofp/\" + flightplan\n",
    "        response = urlopen(url)\n",
    "        data = json.loads(response.read())\n",
    "        return data\n",
    "    except Exception as e:\n",
    "        return None\n",
    "\n",
    "def create_fuelreport_df(denorm_df):\n",
    "    fuel_report_df = denorm_df[denorm_df.fuelreport.notna()]['fuelreport'].apply(pd.Series)\n",
    "    fuel_report_df.drop_duplicates(subset=['dep', 'flight_number', 'flight_date', 'aircraft_registration'], inplace=True)\n",
    "    return fuel_report_df\n",
    "\n",
    "def count_fuel_data(fuel_report_df):\n",
    "    \"\"\"Return DataFram contain number of Fuel report data each month\"\"\"\n",
    "    \n",
    "    fuel_summary_df = fuel_report_df.sort_values(['flight_date', 'flight_number']).reset_index()[['flight_date','flight_number','aircraft_registration','dep']]\n",
    "    month = []\n",
    "    year = []\n",
    "    for date in fuel_summary_df.flight_date:\n",
    "        date_time = pd.to_datetime(date)\n",
    "        month.append(date_time.month)\n",
    "        year.append(date_time.year)\n",
    "\n",
    "    fuel_summary_df['month'] = month\n",
    "    fuel_summary_df['year'] = year\n",
    "    return fuel_summary_df.groupby(['year','month'])['flight_number'].count()"
   ]
  },
  {
   "cell_type": "code",
   "execution_count": 35,
   "metadata": {},
   "outputs": [],
   "source": [
    "# Adjust to/from date\n",
    "from_param = 'from=2021-11-01T00:00:00.000Z'\n",
    "to_param = 'to=2021-12-31T23:59:59.000Z'\n",
    "\n",
    "# Create DataFrame\n",
    "denorm_df = get_denorm_data(from_param, to_param)\n",
    "fuel_reprt_df = create_fuelreport_df(denorm_df)"
   ]
  },
  {
   "cell_type": "code",
   "execution_count": 40,
   "metadata": {},
   "outputs": [],
   "source": [
    "fuel_report_df.to_csv('etl_data_20211101_20211231.csv')"
   ]
  }
 ],
 "metadata": {
  "interpreter": {
   "hash": "fde31f69ec4151a81e14596e20bc6648a19af21ebec4022d8bbb0aa3e576375a"
  },
  "kernelspec": {
   "display_name": "Python 3.10.4 64-bit (windows store)",
   "language": "python",
   "name": "python3"
  },
  "language_info": {
   "codemirror_mode": {
    "name": "ipython",
    "version": 3
   },
   "file_extension": ".py",
   "mimetype": "text/x-python",
   "name": "python",
   "nbconvert_exporter": "python",
   "pygments_lexer": "ipython3",
   "version": "3.10.4"
  },
  "orig_nbformat": 4
 },
 "nbformat": 4,
 "nbformat_minor": 2
}
